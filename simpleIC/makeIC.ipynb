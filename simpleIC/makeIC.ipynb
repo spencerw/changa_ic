{
 "cells": [
  {
   "cell_type": "code",
   "execution_count": 6,
   "metadata": {
    "collapsed": true
   },
   "outputs": [],
   "source": [
    "%matplotlib inline\n",
    "import matplotlib.pylab as plt\n",
    "import numpy as np\n",
    "import os\n",
    "from astropy import units as u\n",
    "\n",
    "simT = u.def_unit('simT', represents=(u.year/(2*np.pi)))\n",
    "simV = u.AU / simT"
   ]
  },
  {
   "cell_type": "code",
   "execution_count": 7,
   "metadata": {},
   "outputs": [
    {
     "name": "stdout",
     "output_type": "stream",
     "text": [
      "[-0.5  0.   0. ] AU / simT\n"
     ]
    }
   ],
   "source": [
    "filename = 'icfile.bin' # The name of the initial condition file\n",
    "\n",
    "ntotal = 3 # Total number of particles\n",
    "ndim = 3   # Number of dimensions (leave this at 3)\n",
    "time = 0   # Starting time\n",
    "\n",
    "# Particle 1\n",
    "m1 = 1e-30 * u.M_sun                     # Mass\n",
    "r1 = 0.1 * u.AU                        # Radius\n",
    "p1 = np.array([-1.0, 0.0, 0.0]) * u.AU # Position\n",
    "v1 = np.array([0.0, 0.0, 0.0]) * simV  # Velocity\n",
    "\n",
    "# Particle 2\n",
    "m2 = 1e-30 * u.M_sun                     # Mass\n",
    "r2 = 0.1 * u.AU                        # Radius\n",
    "p2 = np.array([1.05, 0.0, 0.0]) * u.AU  # Position\n",
    "v2 = np.array([-0.5, 0.0, 0.0]) * simV # Velocity\n",
    "print(v2)\n",
    "\n",
    "# Particle 3 (has to be included, ChaNGa can't handle < 3 particles)\n",
    "m3 = 1e-50 * u.M_sun                    # Mass\n",
    "r3 = 0.1 * u.AU                         # Radius\n",
    "p3 = np.array([-100.5, -0.5, -0.5]) * u.AU# Position\n",
    "v3 = np.array([0.0, 0.0, 0.0]) * simV   # Velocity\n",
    "\n",
    "masses = np.array([m1.value, m2.value, m3.value])\n",
    "positions = np.array([p1.value, p2.value, p3.value])\n",
    "velocities = np.array([v1.value, v2.value, v3.value])\n",
    "eps = np.array([r1.value/2, r2.value/2, r3.value/2])  # Radius = 2*eps"
   ]
  },
  {
   "cell_type": "code",
   "execution_count": 20,
   "metadata": {},
   "outputs": [
    {
     "data": {
      "text/plain": [
       "Text(0.5, 1.0, 'T = 0')"
      ]
     },
     "execution_count": 20,
     "metadata": {},
     "output_type": "execute_result"
    },
    {
     "data": {
      "image/png": "[encoded data removed]",
      "text/plain": [
       "<Figure size 576x576 with 1 Axes>"
      ]
     },
     "metadata": {
      "needs_background": "light"
     },
     "output_type": "display_data"
    }
   ],
   "source": [
    "fig, axes = plt.subplots(figsize=(8,8))\n",
    "circle = plt.Circle((p1[0].value, p1[1].value), r1.value, color='r')\n",
    "axes.add_artist(circle)\n",
    "circle = plt.Circle((p2[0].value, p2[1].value), r2.value, color='r')\n",
    "axes.add_artist(circle)\n",
    "arrow = plt.arrow(p2[0].value, p2[1].value, v2[0].value, v2[1].value, head_width=0.1, head_length=0.1)\n",
    "axes.add_artist(arrow)\n",
    "axes.set_xlim(-2, 2)\n",
    "axes.set_ylim(-2, 2)\n",
    "axes.set_xlabel('X position')\n",
    "axes.set_xlabel('Y position')\n",
    "axes.set_title('T = 0')"
   ]
  },
  {
   "cell_type": "code",
   "execution_count": 8,
   "metadata": {
    "collapsed": true
   },
   "outputs": [],
   "source": [
    "# Calculate the gravitational potential for each particle\n",
    "\n",
    "pot = np.zeros(ntotal)\n",
    "for idx in range(ntotal):\n",
    "    e = 0.0\n",
    "    for idx1 in range(ntotal):\n",
    "        if idx == idx1:\n",
    "            continue\n",
    "        r = np.sqrt(np.sum((positions[idx] - positions[idx1])**2))\n",
    "        e += -masses[idx1]/r\n",
    "    pot[idx] = e"
   ]
  },
  {
   "cell_type": "code",
   "execution_count": 9,
   "metadata": {
    "collapsed": true
   },
   "outputs": [],
   "source": [
    "# Write the data out to an ASCII file in the correct format\n",
    "# See http://faculty.washington.edu/trq/hpcc/tipsy/man/readascii.html for details\n",
    "\n",
    "f = open('ic.txt', 'w')\n",
    "\n",
    "f.write(str(ntotal) + ', 0, 0\\n')\n",
    "f.write(str(ndim) + '\\n')\n",
    "f.write(str(time) + '\\n')\n",
    "\n",
    "for idx in range(ntotal):\n",
    "    f.write(str(masses[idx]) + '\\n')\n",
    "\n",
    "for idx in range(ntotal):\n",
    "    f.write(str(positions[:,0][idx]) + '\\n')\n",
    "for idx in range(ntotal):\n",
    "    f.write(str(positions[:,1][idx]) + '\\n')\n",
    "for idx in range(ntotal):\n",
    "    f.write(str(positions[:,2][idx]) + '\\n')\n",
    "    \n",
    "for idx in range(ntotal):\n",
    "    f.write(str(velocities[:,0][idx]) + '\\n')\n",
    "for idx in range(ntotal):\n",
    "    f.write(str(velocities[:,1][idx]) + '\\n')\n",
    "for idx in range(ntotal):\n",
    "    f.write(str(velocities[:,2][idx]) + '\\n')\n",
    "    \n",
    "for idx in range(ntotal):\n",
    "    f.write(str(eps[idx]) + '\\n')\n",
    "    \n",
    "for idx in range(ntotal):\n",
    "    f.write(str(pot[idx]) + '\\n')\n",
    "\n",
    "f.close()"
   ]
  },
  {
   "cell_type": "code",
   "execution_count": 10,
   "metadata": {},
   "outputs": [
    {
     "data": {
      "text/plain": [
       "0"
      ]
     },
     "execution_count": 10,
     "metadata": {},
     "output_type": "execute_result"
    }
   ],
   "source": [
    "os.system(\"$HOME/tipsy_tools/ascii2bin < ic.txt > \" + filename)\n",
    "os.system(\"rm ic.txt\")"
   ]
  },
  {
   "cell_type": "code",
   "execution_count": null,
   "metadata": {
    "collapsed": true
   },
   "outputs": [],
   "source": []
  }
 ],
 "metadata": {
  "kernelspec": {
   "display_name": "Python 3",
   "language": "python",
   "name": "python3"
  },
  "language_info": {
   "codemirror_mode": {
    "name": "ipython",
    "version": 3
   },
   "file_extension": ".py",
   "mimetype": "text/x-python",
   "name": "python",
   "nbconvert_exporter": "python",
   "pygments_lexer": "ipython3",
   "version": "3.7.3"
  }
 },
 "nbformat": 4,
 "nbformat_minor": 2
}
